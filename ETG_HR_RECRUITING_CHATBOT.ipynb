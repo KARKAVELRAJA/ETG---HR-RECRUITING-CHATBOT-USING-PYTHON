{
  "nbformat": 4,
  "nbformat_minor": 0,
  "metadata": {
    "colab": {
      "name": "ETG - HR RECRUITING CHATBOT.ipynb",
      "provenance": []
    },
    "kernelspec": {
      "name": "python3",
      "display_name": "Python 3"
    },
    "language_info": {
      "name": "python"
    }
  },
  "cells": [
    {
      "cell_type": "markdown",
      "metadata": {
        "id": "rWRKYv4ionId"
      },
      "source": [
        "#**HR RECRUITING CHATBOT**"
      ]
    },
    {
      "cell_type": "markdown",
      "metadata": {
        "id": "QLiO4FSMVvY1"
      },
      "source": [
        "##**DATABASE FOR HR RECRUITING CHATBOT**"
      ]
    },
    {
      "cell_type": "code",
      "metadata": {
        "id": "fPHvY6urQ_EL"
      },
      "source": [
        "job_category={'1':'Driver', '2':'Cook', '3':'Maid', '4':'Delivery Person', '5':'Repair Person'}\n",
        "Expected_Monthly_Salary={'1':'15000-20000', '2':'20000-25000', '3':'25000-30000', '4':'30000-35000'}\n",
        "jobs={'1': 'OLA CAB DRIVER', '2':'UBER CAB DRIVER', '3':'SAI VISHWANATH TRAVELS DRIVER', '4':'BANSAL BROTHERS AND ASSOCIATES DRIVER', '5':'K A RATHASABAPATHY PERSONAL DRIVER'}\n",
        "Actual_Monthly_Salary={'OLA CAB DRIVER':'Rs.17000/month', 'UBER CAB DRIVER':'Rs.17000/month', 'SAI VISHWANATH TRAVELS DRIVER':'Rs.15000/month', 'BANSAL BROTHERS AND ASSOCIATES DRIVER':'Rs.13000/month', 'K A RATHASABAPATHY PERSONAL DRIVER':'Rs.10000/month'}"
      ],
      "execution_count": null,
      "outputs": []
    },
    {
      "cell_type": "markdown",
      "metadata": {
        "id": "4EQK_qR8FWBf"
      },
      "source": [
        "##**CHATBOT FOR HR RECRUITING**"
      ]
    },
    {
      "cell_type": "code",
      "metadata": {
        "colab": {
          "base_uri": "https://localhost:8080/"
        },
        "id": "_7dZvSr-rBxv",
        "outputId": "5fb1856f-ea1c-426b-d73d-387eed865f13"
      },
      "source": [
        "print(\"Hello and welcome to Awesome Jobs.\") \n",
        "print(\"We will together find a better job for you.\"'\\n')\n",
        " \n",
        "name  = input(\"Tell me, what is your full name?\"'\\n')\n",
        "print('\\n')\n",
        "\n",
        "city  = input(\"Which city are you from?\"'\\n')\n",
        "print('\\n')\n",
        "\n",
        "gender= input(\"Great. What's your gender?\\n*Male\\n*Female\"'\\n')\n",
        "print('\\n')\n",
        "\n",
        "age   = input(\"How old are you?\"'\\n')\n",
        "print('\\n')\n",
        "\n",
        "print(\"This is exciting.\")\n",
        "print(\"I already have found more than 300 jobs that you might like.\"'\\n')\n",
        "\n",
        "print(\"What kind of jobs do you like?\")\n",
        "print(\"Enter 1 for Driver\\nEnter 2 for Cook\\nEnter 3 for Maid\\nEnter 4 for Delivery Person\\nEnter 5 for Repair Person\")\n",
        "lst=[]\n",
        "print(\"select upto 3 categories\")\n",
        "for i in range(0,3):     \n",
        "     lst.append(input())\n",
        "print('\\n')\n",
        "\n",
        "print(\"How much monthly salary do you expect?\")\n",
        "salary= input(\"Enter 1 for 15000-20000\\nEnter 2 for 20000-25000\\nEnter 3 for 25000-30000\\nEnter 4 for 30000-35000\"'\\n')\n",
        "print('\\n')\n",
        "\n",
        "print(\"Great. Here’s a list of great jobs you might like.\")\n",
        "print(\"select 1 for Cab Driver in OLA, Salary = Rs.17000/month\")\n",
        "print(\"select 2 for Cab Driver in UBER, Salary = Rs.17000/month\")\n",
        "print(\"select 3 for Driver in Sai Vishwanath Travels, Salary = Rs.15000/month\")\n",
        "print(\"select 4 for Driver in Bansal brothers and associates, Salary = Rs.13000/month\")\n",
        "print(\"select 5 for Personal Driver in K A Rathasabapathy, Salary = Rs.10000/month\")\n",
        "job   = input(\"If you like them, select one to apply for it.\"'\\n')\n",
        "print('\\n')\n",
        " \n",
        "print(\"Your application has been successfully sent to Employer_name.\")\n",
        "print('\\n') \n",
        "\n",
        "print(\"You’ve picked Employer_name! Great choice.\")\n",
        "print(\"The next step is to schedule your interview with them.\")\n",
        "decision = input(\"Enter 1 To schedule your interview\"'\\n')\n",
        "if (decision == '1'):\n",
        "     print('\\n')\n",
        "     print(\"It was great talking to you.\")\n",
        "     print(\"The employer will contact you to get more information about your job application\")"
      ],
      "execution_count": null,
      "outputs": [
        {
          "output_type": "stream",
          "name": "stdout",
          "text": [
            "Hello and welcome to Awesome Jobs.\n",
            "We will together find a better job for you.\n",
            "\n",
            "Tell me, what is your full name?\n",
            "Karkavelraja J\n",
            "\n",
            "\n",
            "Which city are you from?\n",
            "Puducherry\n",
            "\n",
            "\n",
            "Great. What's your gender?\n",
            "*Male\n",
            "*Female\n",
            "Male\n",
            "\n",
            "\n",
            "How old are you?\n",
            "21\n",
            "\n",
            "\n",
            "This is exciting.\n",
            "I already have found more than 300 jobs that you might like.\n",
            "\n",
            "What kind of jobs do you like?\n",
            "Enter 1 for Driver\n",
            "Enter 2 for Cook\n",
            "Enter 3 for Maid\n",
            "Enter 4 for Delivery Person\n",
            "Enter 5 for Repair Person\n",
            "select upto 3 categories\n",
            "1\n",
            "2\n",
            "4\n",
            "\n",
            "\n",
            "How much monthly salary do you expect?\n",
            "Enter 1 for 15000-20000\n",
            "Enter 2 for 20000-25000\n",
            "Enter 3 for 25000-30000\n",
            "Enter 4 for 30000-35000\n",
            "1\n",
            "\n",
            "\n",
            "Great. Here’s a list of great jobs you might like.\n",
            "select 1 for Cab Driver in OLA, Salary = Rs.17000/month\n",
            "select 2 for Cab Driver in UBER, Salary = Rs.17000/month\n",
            "select 3 for Driver in Sai Vishwanath Travels, Salary = Rs.15000/month\n",
            "select 4 for Driver in Bansal brothers and associates, Salary = Rs.13000/month\n",
            "select 5 for Personal Driver in K A Rathasabapathy, Salary = Rs.10000/month\n",
            "If you like them, select one to apply for it.\n",
            "1\n",
            "\n",
            "\n",
            "Your application has been successfully sent to Employer_name.\n",
            "\n",
            "\n",
            "You’ve picked Employer_name! Great choice.\n",
            "The next step is to schedule your interview with them.\n",
            "Enter 1 To schedule your interview\n",
            "1\n",
            "\n",
            "\n",
            "It was great talking to you.\n",
            "The employer will contact you to get more information about your job application\n"
          ]
        }
      ]
    },
    {
      "cell_type": "code",
      "metadata": {
        "colab": {
          "base_uri": "https://localhost:8080/"
        },
        "id": "aULhzqXUa3Mk",
        "outputId": "55d72afd-af14-45ec-cb7d-53a2f7526f50"
      },
      "source": [
        "Interested_Job_Category = []\n",
        "for i in lst:\n",
        "     Interested_Job_Category.append(job_category[i])\n",
        "Interested_Job_Category"
      ],
      "execution_count": null,
      "outputs": [
        {
          "output_type": "execute_result",
          "data": {
            "text/plain": [
              "['Driver', 'Cook', 'Delivery Person']"
            ]
          },
          "metadata": {},
          "execution_count": 112
        }
      ]
    },
    {
      "cell_type": "markdown",
      "metadata": {
        "id": "1ugXHIXRfB3b"
      },
      "source": [
        "##**STORING THE RESPONSE OF HR RECRUITING CHATBOT ON record.txt FILE**"
      ]
    },
    {
      "cell_type": "code",
      "metadata": {
        "id": "rN3CBOAnV9Uy"
      },
      "source": [
        "record = 'Name: ' + name + ',' '\\n' + 'City: ' + city + ',' '\\n' + 'Gender: ' + gender + ',' '\\n' + 'Age: ' + age + ',' '\\n' + 'Interested_Job_Category: ' + str(Interested_Job_Category) + ',' '\\n' + 'Expected_Monthly_Salary: ' + Expected_Monthly_Salary[salary] + ',' '\\n'  +'Name_of_Obtained_Job: ' + jobs[job] + ',' '\\n' + 'Salary_of_Obtained_Job: ' + Actual_Monthly_Salary[jobs[job]]"
      ],
      "execution_count": null,
      "outputs": []
    },
    {
      "cell_type": "code",
      "metadata": {
        "colab": {
          "base_uri": "https://localhost:8080/",
          "height": 137
        },
        "id": "HZLrsgLScUqt",
        "outputId": "8ba88b1e-788d-4b51-a18f-17811ae41c92"
      },
      "source": [
        "record"
      ],
      "execution_count": null,
      "outputs": [
        {
          "output_type": "execute_result",
          "data": {
            "application/vnd.google.colaboratory.intrinsic+json": {
              "type": "string"
            },
            "text/plain": [
              "\"Name: Karkavelraja J,\\nCity: Puducherry,\\nGender: Male,\\nAge: 21,\\nInterested_Job_Category: ['Driver', 'Cook', 'Delivery Person'],\\nExpected_Monthly_Salary: 15000-20000,\\nName_of_Obtained_Job: OLA CAB DRIVER,\\nSalary_of_Obtained_Job: Rs.17000/month\""
            ]
          },
          "metadata": {},
          "execution_count": 114
        }
      ]
    },
    {
      "cell_type": "code",
      "metadata": {
        "id": "hX5XqKfWcc1S"
      },
      "source": [
        "saving = open('record.txt', 'w')\n",
        "saving.write(record)\n",
        "saving.close()"
      ],
      "execution_count": null,
      "outputs": []
    }
  ]
}